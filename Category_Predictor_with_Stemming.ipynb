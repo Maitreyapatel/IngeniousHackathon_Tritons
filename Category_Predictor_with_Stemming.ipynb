{
 "cells": [
  {
   "cell_type": "code",
   "execution_count": null,
   "metadata": {},
   "outputs": [],
   "source": [
    "from sklearn.datasets import fetch_20newsgroups \n",
    "from sklearn.naive_bayes import MultinomialNB \n",
    "from sklearn.feature_extraction.text import TfidfTransformer \n",
    "from sklearn.feature_extraction.text import CountVectorizer \n",
    "from sklearn.ensemble import RandomForestClassifier\n",
    "from nltk.stem.snowball import SnowballStemmer \n",
    "from textblob import TextBlob\n",
    "import pandas as pd\n",
    "import pickle\n"
   ]
  },
  {
   "cell_type": "code",
   "execution_count": null,
   "metadata": {},
   "outputs": [],
   "source": [
    "# Load self-built dataset as dataframe object\n",
    "train_data = pd.read_csv('Dataset.csv')\n",
    "# Extract values of Y\n",
    "train_target = train_data.iloc[:,0]\n",
    "# Extract values of X\n",
    "train_data = train_data.iloc[:, 1]\n",
    "# Convert dataframe object X into numpy array\n",
    "train_data = train_data.values \n"
   ]
  },
  {
   "cell_type": "code",
   "execution_count": null,
   "metadata": {},
   "outputs": [],
   "source": [
    "# Categories we have build the dataset on: Construction Work, Agriculture, \n",
    "# IT Services, Clothing and Financial Services \n",
    "# Create Stemmer Object\n",
    "snowball = SnowballStemmer('english')\n",
    "\n",
    "for row, i in enumerate(train_data):\n",
    "    zen = TextBlob(i)\n",
    "    for j in zen.words:\n",
    "        word = snowball(j) \n",
    "        training_data[row] = training_data[row] + word"
   ]
  },
  {
   "cell_type": "code",
   "execution_count": null,
   "metadata": {},
   "outputs": [],
   "source": [
    "# Build a count vectorizer and extract unique word counts from all instances\n",
    "count_vectorizer = CountVectorizer() \n",
    "train_tc = count_vectorizer.fit_transform(training_data)\n",
    "pickle.dump(train_tc, open('save_vectorizer.pkl', 'wb'))\n",
    "print(\"\\nDimensions of training data:\", train_tc.shape) "
   ]
  },
  {
   "cell_type": "code",
   "execution_count": null,
   "metadata": {},
   "outputs": [],
   "source": [
    "# Create Term Frequency - Inverse Document Frequency (tf-idf) transformer\n",
    "tfidf = TfidfTransformer() \n",
    "train_tfidf = tfidf.fit_transform(train_tc) \n",
    "pickle.dump(train_tfidf,open('save_tfidf.pkl', 'wb'))"
   ]
  },
  {
   "cell_type": "code",
   "execution_count": null,
   "metadata": {},
   "outputs": [],
   "source": [
    "# Define test data  \n",
    "input_data = [ \n",
    "    'There is a house made of steel rods and cement across the road.',  \n",
    "    'I am wearing a beautiful dress made of cotton.', \n",
    "    'Information technology is at its peak and I need consultancy for the same.', \n",
    "    'The soil is dry and crops are cultivated and fertilizers are sprayed.' \n",
    "] "
   ]
  },
  {
   "cell_type": "code",
   "execution_count": null,
   "metadata": {},
   "outputs": [],
   "source": [
    "# Training Mulitnomial Naive Bayes Classifier\n",
    "classifier = MultinomialNB().fit(train_tfidf, train_target) \n",
    "pickle.dump(classifier, open(\"save_output.pkl\",\"wb\"))\n",
    "#classifier = RandomForestClassifier(max_depth=20, n_estimators=15)\n",
    "#classifier.fit(train_tfidf, training_data.target)"
   ]
  },
  {
   "cell_type": "code",
   "execution_count": null,
   "metadata": {},
   "outputs": [],
   "source": [
    "# Build a count vectorizer for test data\n",
    "input_tc = count_vectorizer.transform(input_data) "
   ]
  },
  {
   "cell_type": "code",
   "execution_count": null,
   "metadata": {},
   "outputs": [],
   "source": [
    "# Create Term Frequency - Inverse Document Frequency (tf-idf) transformer for test data\n",
    "input_tfidf = tfidf.transform(input_tc)"
   ]
  },
  {
   "cell_type": "code",
   "execution_count": null,
   "metadata": {},
   "outputs": [],
   "source": [
    "# Predict the categories \n",
    "predictions = classifier.predict(input_tfidf) "
   ]
  },
  {
   "cell_type": "code",
   "execution_count": null,
   "metadata": {},
   "outputs": [],
   "source": [
    "# Return the outputs \n",
    "index=0\n",
    "for i in zip(input_data): \n",
    "    print('\\nInput:', i, '\\nPredicted category:', predictions[index])\n",
    "    index = index+1"
   ]
  },
  {
   "cell_type": "code",
   "execution_count": null,
   "metadata": {},
   "outputs": [],
   "source": []
  }
 ],
 "metadata": {
  "kernelspec": {
   "display_name": "Python 3",
   "language": "python",
   "name": "python3"
  },
  "language_info": {
   "codemirror_mode": {
    "name": "ipython",
    "version": 3
   },
   "file_extension": ".py",
   "mimetype": "text/x-python",
   "name": "python",
   "nbconvert_exporter": "python",
   "pygments_lexer": "ipython3",
   "version": "3.6.4"
  }
 },
 "nbformat": 4,
 "nbformat_minor": 2
}
