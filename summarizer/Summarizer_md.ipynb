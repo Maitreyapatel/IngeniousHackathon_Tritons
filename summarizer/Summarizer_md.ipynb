{
  "nbformat": 4,
  "nbformat_minor": 0,
  "metadata": {
    "colab": {
      "name": "Summarizer.md",
      "version": "0.3.2",
      "views": {},
      "default_view": {},
      "provenance": [],
      "collapsed_sections": []
    },
    "kernelspec": {
      "name": "python3",
      "display_name": "Python 3"
    }
  },
  "cells": [
    {
      "metadata": {
        "id": "j_L69BBsg1mD",
        "colab_type": "code",
        "colab": {
          "autoexec": {
            "startup": false,
            "wait_interval": 0
          }
        }
      },
      "cell_type": "code",
      "source": [
        ""
      ],
      "execution_count": 0,
      "outputs": []
    },
    {
      "metadata": {
        "id": "6vNk8aHHg7gm",
        "colab_type": "text"
      },
      "cell_type": "markdown",
      "source": [
        "**Aim**: To build a product review summarizer as well as text summarizer\n",
        "\n",
        "**Application:** Reducing hundreds of product reviews into a summarised text consisting of maximum 10 sentences. Also an artcile can be summarized into 10-12 lines using this approach. To show the top 5 important keywords at the end of the document.\n",
        "\n",
        "---\n",
        "\n",
        "### **APPROACH:**<br>\n",
        "Given many reviews, first all the reviews will be combined in a single text and then summarized in few lines. Articles, documents can be summarized similarly.\n",
        "\n",
        "### Step 1: Stake Decoder Algorithm:\n",
        "Collecting the text and stacking it in a queue sentence by sentence based on few conditions.\n",
        "\n",
        "### Step 2: Calculating Similarity Score\n",
        "We are calculating the similarity score based on the most frequently occuring words using different techniques of Natural Language Processing.\n",
        "<br><tab>a.Stemming\n",
        "  \n",
        "b.Removing stop words\n",
        "\n",
        "c.TF-IDF(Term Frequency- Inverse Document Frequency)\n",
        "\n",
        "### Step 3: Using Stake Decoder algorithm, we can get the precise lines of summary as per our requirement.\n",
        "\n",
        "### Step 4: Extracting five words as keywords on the basis of the importance score generated from the TF-IDF values.\n",
        "\n",
        "The above method is employed in order to summarize to 10 lines max. We can proceed further to reduce them to 1-2 sentences. This can be done by using LSTM(Long-Short Term Memory). \n",
        "We have trained LSTM netwrok on a portion of food reviews dataset.\n",
        "Due to lack of time and computational tools, we couldn't generalise LSTM results. But it gives fairly good results(sensible) as compared to using NLP methods. "
      ]
    }
  ]
}