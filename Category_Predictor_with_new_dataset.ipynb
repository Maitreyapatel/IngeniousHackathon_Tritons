{
 "cells": [
  {
   "cell_type": "code",
   "execution_count": 1,
   "metadata": {},
   "outputs": [],
   "source": [
    "from sklearn.datasets import fetch_20newsgroups \n",
    "from sklearn.naive_bayes import MultinomialNB \n",
    "from sklearn.feature_extraction.text import TfidfTransformer \n",
    "from sklearn.feature_extraction.text import CountVectorizer \n",
    "from sklearn.ensemble import RandomForestClassifier\n",
    "import pandas as pd\n",
    "# import pickle"
   ]
  },
  {
   "cell_type": "code",
   "execution_count": 2,
   "metadata": {},
   "outputs": [],
   "source": [
    "# Load self-built dataset as dataframe object\n",
    "training_data = pd.read_csv('Dataset.csv')\n",
    "# Extract values of Y\n",
    "train_target = training_data.iloc[:,0]\n",
    "# Extract values of X\n",
    "training_data = training_data.iloc[:, 1]\n",
    "# Convert dataframe object X into numpy array\n",
    "training_data = training_data.values \n"
   ]
  },
  {
   "cell_type": "code",
   "execution_count": 3,
   "metadata": {},
   "outputs": [],
   "source": [
    "# Categories we have build the dataset on: Construction Work, Agriculture, \n",
    "# IT Services, Clothing and Financial Services "
   ]
  },
  {
   "cell_type": "code",
   "execution_count": 4,
   "metadata": {},
   "outputs": [
    {
     "name": "stdout",
     "output_type": "stream",
     "text": [
      "\n",
      "Dimensions of training data: (60, 1661)\n"
     ]
    }
   ],
   "source": [
    "# Build a count vectorizer and extract unique word counts from all instances\n",
    "count_vectorizer = CountVectorizer() \n",
    "train_tc = count_vectorizer.fit_transform(training_data) \n",
    "print(\"\\nDimensions of training data:\", train_tc.shape) "
   ]
  },
  {
   "cell_type": "code",
   "execution_count": 5,
   "metadata": {},
   "outputs": [],
   "source": [
    "# Create Term Frequency - Inverse Document Frequency (tf-idf) transformer\n",
    "tfidf = TfidfTransformer() \n",
    "train_tfidf = tfidf.fit_transform(train_tc) "
   ]
  },
  {
   "cell_type": "code",
   "execution_count": 6,
   "metadata": {},
   "outputs": [],
   "source": [
    "# Define test data  \n",
    "input_data = [ \n",
    "    'There is a house made of steel rods and cement across the road.',  \n",
    "    'I am wearing a beautiful dress made of cotton.', \n",
    "    'Information technology is at its peak and I need consultancy for the same.', \n",
    "    'The soil is dry and crops are cultivated and fertilizers are sprayed.' \n",
    "] "
   ]
  },
  {
   "cell_type": "code",
   "execution_count": 7,
   "metadata": {},
   "outputs": [],
   "source": [
    "# Training Mulitnomial Naive Bayes Classifier\n",
    "classifier = MultinomialNB().fit(train_tfidf, train_target) \n",
    "#classifier = RandomForestClassifier(max_depth=20, n_estimators=15)\n",
    "#classifier.fit(train_tfidf, training_data.target)"
   ]
  },
  {
   "cell_type": "code",
   "execution_count": 8,
   "metadata": {},
   "outputs": [],
   "source": [
    "# Build a count vectorizer for test data\n",
    "input_tc = count_vectorizer.transform(input_data) "
   ]
  },
  {
   "cell_type": "code",
   "execution_count": 9,
   "metadata": {},
   "outputs": [],
   "source": [
    "# Create Term Frequency - Inverse Document Frequency (tf-idf) transformer for test data\n",
    "input_tfidf = tfidf.transform(input_tc)"
   ]
  },
  {
   "cell_type": "code",
   "execution_count": 10,
   "metadata": {},
   "outputs": [],
   "source": [
    "# Predict the categories \n",
    "predictions = classifier.predict(input_tfidf) \n",
    "\n",
    "#dictionary = dict(zip(input_data,predictions))\n",
    "#pickle.dump(dict, open(\"save_output.txt\",\"wb\"))"
   ]
  },
  {
   "cell_type": "code",
   "execution_count": 11,
   "metadata": {},
   "outputs": [
    {
     "name": "stdout",
     "output_type": "stream",
     "text": [
      "\n",
      "Input: ('There is a house made of steel rods and cement across the road.',) \n",
      "Predicted category: Construction Work\n",
      "\n",
      "Input: ('I am wearing a beautiful dress made of cotton.',) \n",
      "Predicted category: Clothing\n",
      "\n",
      "Input: ('Information technology is at its peak and I need consultancy for the same.',) \n",
      "Predicted category: IT service\n",
      "\n",
      "Input: ('The soil is dry and crops are cultivated and fertilizers are sprayed.',) \n",
      "Predicted category: Agriculture\n"
     ]
    }
   ],
   "source": [
    "# Return the outputs \n",
    "index=0\n",
    "for i in zip(input_data): \n",
    "    print('\\nInput:', i, '\\nPredicted category:', predictions[index])\n",
    "    index = index+1"
   ]
  },
  {
   "cell_type": "code",
   "execution_count": null,
   "metadata": {},
   "outputs": [],
   "source": []
  }
 ],
 "metadata": {
  "kernelspec": {
   "display_name": "Python 3",
   "language": "python",
   "name": "python3"
  },
  "language_info": {
   "codemirror_mode": {
    "name": "ipython",
    "version": 3
   },
   "file_extension": ".py",
   "mimetype": "text/x-python",
   "name": "python",
   "nbconvert_exporter": "python",
   "pygments_lexer": "ipython3",
   "version": "3.6.4"
  }
 },
 "nbformat": 4,
 "nbformat_minor": 2
}
